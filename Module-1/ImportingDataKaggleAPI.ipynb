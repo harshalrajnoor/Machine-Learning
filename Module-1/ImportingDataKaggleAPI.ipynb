{
  "cells": [
    {
      "cell_type": "code",
      "execution_count": 1,
      "metadata": {
        "id": "v5rWi_IluQka"
      },
      "outputs": [],
      "source": [
        "import pandas as pd"
      ]
    },
    {
      "cell_type": "code",
      "execution_count": 2,
      "metadata": {
        "colab": {
          "base_uri": "https://localhost:8080/"
        },
        "id": "zM_DenYBuWLJ",
        "outputId": "0a089913-0c90-4e7e-9805-4101ff22bf3e"
      },
      "outputs": [
        {
          "name": "stdout",
          "output_type": "stream",
          "text": [
            "Requirement already satisfied: kaggle in c:\\users\\harsh\\anaconda\\lib\\site-packages (1.5.13)\n",
            "Requirement already satisfied: six>=1.10 in c:\\users\\harsh\\anaconda\\lib\\site-packages (from kaggle) (1.16.0)\n",
            "Requirement already satisfied: python-dateutil in c:\\users\\harsh\\anaconda\\lib\\site-packages (from kaggle) (2.8.2)\n",
            "Requirement already satisfied: requests in c:\\users\\harsh\\anaconda\\lib\\site-packages (from kaggle) (2.28.1)\n",
            "Requirement already satisfied: tqdm in c:\\users\\harsh\\anaconda\\lib\\site-packages (from kaggle) (4.64.1)\n",
            "Requirement already satisfied: python-slugify in c:\\users\\harsh\\anaconda\\lib\\site-packages (from kaggle) (5.0.2)\n",
            "Requirement already satisfied: urllib3 in c:\\users\\harsh\\anaconda\\lib\\site-packages (from kaggle) (1.26.14)\n",
            "Requirement already satisfied: certifi in c:\\users\\harsh\\anaconda\\lib\\site-packages (from kaggle) (2022.12.7)\n",
            "Requirement already satisfied: text-unidecode>=1.3 in c:\\users\\harsh\\anaconda\\lib\\site-packages (from python-slugify->kaggle) (1.3)\n",
            "Requirement already satisfied: idna<4,>=2.5 in c:\\users\\harsh\\anaconda\\lib\\site-packages (from requests->kaggle) (3.4)\n",
            "Requirement already satisfied: charset-normalizer<3,>=2 in c:\\users\\harsh\\anaconda\\lib\\site-packages (from requests->kaggle) (2.0.4)\n",
            "Requirement already satisfied: colorama in c:\\users\\harsh\\anaconda\\lib\\site-packages (from tqdm->kaggle) (0.4.6)\n"
          ]
        }
      ],
      "source": [
        "!pip install kaggle"
      ]
    },
    {
      "cell_type": "code",
      "execution_count": 3,
      "metadata": {
        "id": "TiQ8-pAfunCr"
      },
      "outputs": [
        {
          "name": "stderr",
          "output_type": "stream",
          "text": [
            "The syntax of the command is incorrect.\n"
          ]
        }
      ],
      "source": [
        "!mkdir -p ~/.kaggle\n",
        "!cp kaggle.json ~/.kaggle/\n",
        "!chmod 600 ~/.kaggle/kaggle.json"
      ]
    },
    {
      "cell_type": "markdown",
      "metadata": {
        "id": "w5eUkIXl1jdy"
      },
      "source": [
        "### Importing the earthquake dataset"
      ]
    },
    {
      "cell_type": "code",
      "execution_count": 4,
      "metadata": {
        "colab": {
          "base_uri": "https://localhost:8080/"
        },
        "id": "CxoGX0S2ur_7",
        "outputId": "4b9aef8b-74d4-4673-e4ee-7d1fe5cc223c"
      },
      "outputs": [
        {
          "name": "stdout",
          "output_type": "stream",
          "text": [
            "^C\n"
          ]
        }
      ],
      "source": [
        "!kaggle competitions download -c LANL-Earthquake-Prediction"
      ]
    },
    {
      "cell_type": "markdown",
      "metadata": {
        "id": "3d6RB0jJ2Apt"
      },
      "source": [
        "### Extracting the compressed dataset"
      ]
    },
    {
      "cell_type": "code",
      "execution_count": null,
      "metadata": {
        "colab": {
          "base_uri": "https://localhost:8080/"
        },
        "id": "T9xznQPp1--0",
        "outputId": "db59bd76-031b-424b-cc62-6dba90c5e1dc"
      },
      "outputs": [
        {
          "name": "stdout",
          "output_type": "stream",
          "text": [
            "The dataset is extracted\n"
          ]
        }
      ],
      "source": [
        "from zipfile import ZipFile\n",
        "dataset = '/content/LANL-Earthquake-Prediction.zip'\n",
        "\n",
        "with ZipFile(dataset,'r') as zip:\n",
        "  zip.extractall()\n",
        "  print('The dataset is extracted')"
      ]
    }
  ],
  "metadata": {
    "colab": {
      "provenance": []
    },
    "kernelspec": {
      "display_name": "Python 3",
      "name": "python3"
    },
    "language_info": {
      "codemirror_mode": {
        "name": "ipython",
        "version": 3
      },
      "file_extension": ".py",
      "mimetype": "text/x-python",
      "name": "python",
      "nbconvert_exporter": "python",
      "pygments_lexer": "ipython3",
      "version": "3.10.9"
    }
  },
  "nbformat": 4,
  "nbformat_minor": 0
}
