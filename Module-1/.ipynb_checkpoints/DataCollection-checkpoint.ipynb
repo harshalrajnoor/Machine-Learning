{
 "cells": [
  {
   "cell_type": "code",
   "execution_count": 1,
   "id": "d53c8edf",
   "metadata": {},
   "outputs": [],
   "source": [
    "import pandas as pd"
   ]
  },
  {
   "cell_type": "markdown",
   "id": "1964696e",
   "metadata": {},
   "source": [
    "### Importing data through kaggle API"
   ]
  },
  {
   "cell_type": "code",
   "execution_count": 3,
   "id": "b75e22e0",
   "metadata": {},
   "outputs": [
    {
     "name": "stdout",
     "output_type": "stream",
     "text": [
      "Requirement already satisfied: kaggle in c:\\users\\harsh\\anaconda\\lib\\site-packages (1.5.13)\n",
      "Requirement already satisfied: tqdm in c:\\users\\harsh\\anaconda\\lib\\site-packages (from kaggle) (4.64.1)\n",
      "Requirement already satisfied: certifi in c:\\users\\harsh\\anaconda\\lib\\site-packages (from kaggle) (2022.12.7)\n",
      "Requirement already satisfied: requests in c:\\users\\harsh\\anaconda\\lib\\site-packages (from kaggle) (2.28.1)\n",
      "Requirement already satisfied: python-slugify in c:\\users\\harsh\\anaconda\\lib\\site-packages (from kaggle) (5.0.2)\n",
      "Requirement already satisfied: python-dateutil in c:\\users\\harsh\\anaconda\\lib\\site-packages (from kaggle) (2.8.2)\n",
      "Requirement already satisfied: six>=1.10 in c:\\users\\harsh\\anaconda\\lib\\site-packages (from kaggle) (1.16.0)\n",
      "Requirement already satisfied: urllib3 in c:\\users\\harsh\\anaconda\\lib\\site-packages (from kaggle) (1.26.14)\n",
      "Requirement already satisfied: text-unidecode>=1.3 in c:\\users\\harsh\\anaconda\\lib\\site-packages (from python-slugify->kaggle) (1.3)\n",
      "Requirement already satisfied: idna<4,>=2.5 in c:\\users\\harsh\\anaconda\\lib\\site-packages (from requests->kaggle) (3.4)\n",
      "Requirement already satisfied: charset-normalizer<3,>=2 in c:\\users\\harsh\\anaconda\\lib\\site-packages (from requests->kaggle) (2.0.4)\n",
      "Requirement already satisfied: colorama in c:\\users\\harsh\\anaconda\\lib\\site-packages (from tqdm->kaggle) (0.4.6)\n"
     ]
    }
   ],
   "source": [
    "!pip install kaggle"
   ]
  },
  {
   "cell_type": "markdown",
   "id": "15f17824",
   "metadata": {},
   "source": [
    "### Upload your kaggle.json"
   ]
  },
  {
   "cell_type": "code",
   "execution_count": null,
   "id": "bbd9fd98",
   "metadata": {},
   "outputs": [],
   "source": []
  }
 ],
 "metadata": {
  "kernelspec": {
   "display_name": "Python 3 (ipykernel)",
   "language": "python",
   "name": "python3"
  },
  "language_info": {
   "codemirror_mode": {
    "name": "ipython",
    "version": 3
   },
   "file_extension": ".py",
   "mimetype": "text/x-python",
   "name": "python",
   "nbconvert_exporter": "python",
   "pygments_lexer": "ipython3",
   "version": "3.10.9"
  }
 },
 "nbformat": 4,
 "nbformat_minor": 5
}
