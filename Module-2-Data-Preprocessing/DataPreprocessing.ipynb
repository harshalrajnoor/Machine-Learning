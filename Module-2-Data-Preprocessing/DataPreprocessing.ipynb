{
  "nbformat": 4,
  "nbformat_minor": 0,
  "metadata": {
    "colab": {
      "provenance": []
    },
    "kernelspec": {
      "name": "python3",
      "display_name": "Python 3"
    },
    "language_info": {
      "name": "python"
    }
  },
  "cells": [
    {
      "cell_type": "markdown",
      "source": [
        "### Data Preprocessing"
      ],
      "metadata": {
        "id": "Ii9Kb1v-PesW"
      }
    },
    {
      "cell_type": "code",
      "execution_count": 28,
      "metadata": {
        "id": "pe7JJLcyPVDe"
      },
      "outputs": [],
      "source": [
        "# Importing the libraries\n",
        "import numpy as np\n",
        "import pandas as pd\n",
        "import matplotlib.pyplot as plt"
      ]
    },
    {
      "cell_type": "code",
      "source": [
        "# Importing the dataset\n",
        "dataset = pd.read_csv('/content/Data.csv')\n",
        "X = dataset.iloc[:, :-1].values\n",
        "y = dataset.iloc[:, -1].values"
      ],
      "metadata": {
        "id": "W3DwCXdSPq7L"
      },
      "execution_count": 29,
      "outputs": []
    },
    {
      "cell_type": "code",
      "source": [
        "# printing starting values of dataset\n",
        "dataset.head()"
      ],
      "metadata": {
        "colab": {
          "base_uri": "https://localhost:8080/",
          "height": 206
        },
        "id": "6iQyZO2VQXBB",
        "outputId": "09f84edc-230a-436a-cf50-5096c91306c3"
      },
      "execution_count": 30,
      "outputs": [
        {
          "output_type": "execute_result",
          "data": {
            "text/plain": [
              "   Country   Age   Salary Purchased\n",
              "0   France  44.0  72000.0        No\n",
              "1    Spain  27.0  48000.0       Yes\n",
              "2  Germany  30.0  54000.0        No\n",
              "3    Spain  38.0  61000.0        No\n",
              "4  Germany  40.0      NaN       Yes"
            ],
            "text/html": [
              "\n",
              "  <div id=\"df-df635c4d-e775-4959-b1a5-1c4f5ec8a45c\">\n",
              "    <div class=\"colab-df-container\">\n",
              "      <div>\n",
              "<style scoped>\n",
              "    .dataframe tbody tr th:only-of-type {\n",
              "        vertical-align: middle;\n",
              "    }\n",
              "\n",
              "    .dataframe tbody tr th {\n",
              "        vertical-align: top;\n",
              "    }\n",
              "\n",
              "    .dataframe thead th {\n",
              "        text-align: right;\n",
              "    }\n",
              "</style>\n",
              "<table border=\"1\" class=\"dataframe\">\n",
              "  <thead>\n",
              "    <tr style=\"text-align: right;\">\n",
              "      <th></th>\n",
              "      <th>Country</th>\n",
              "      <th>Age</th>\n",
              "      <th>Salary</th>\n",
              "      <th>Purchased</th>\n",
              "    </tr>\n",
              "  </thead>\n",
              "  <tbody>\n",
              "    <tr>\n",
              "      <th>0</th>\n",
              "      <td>France</td>\n",
              "      <td>44.0</td>\n",
              "      <td>72000.0</td>\n",
              "      <td>No</td>\n",
              "    </tr>\n",
              "    <tr>\n",
              "      <th>1</th>\n",
              "      <td>Spain</td>\n",
              "      <td>27.0</td>\n",
              "      <td>48000.0</td>\n",
              "      <td>Yes</td>\n",
              "    </tr>\n",
              "    <tr>\n",
              "      <th>2</th>\n",
              "      <td>Germany</td>\n",
              "      <td>30.0</td>\n",
              "      <td>54000.0</td>\n",
              "      <td>No</td>\n",
              "    </tr>\n",
              "    <tr>\n",
              "      <th>3</th>\n",
              "      <td>Spain</td>\n",
              "      <td>38.0</td>\n",
              "      <td>61000.0</td>\n",
              "      <td>No</td>\n",
              "    </tr>\n",
              "    <tr>\n",
              "      <th>4</th>\n",
              "      <td>Germany</td>\n",
              "      <td>40.0</td>\n",
              "      <td>NaN</td>\n",
              "      <td>Yes</td>\n",
              "    </tr>\n",
              "  </tbody>\n",
              "</table>\n",
              "</div>\n",
              "      <button class=\"colab-df-convert\" onclick=\"convertToInteractive('df-df635c4d-e775-4959-b1a5-1c4f5ec8a45c')\"\n",
              "              title=\"Convert this dataframe to an interactive table.\"\n",
              "              style=\"display:none;\">\n",
              "        \n",
              "  <svg xmlns=\"http://www.w3.org/2000/svg\" height=\"24px\"viewBox=\"0 0 24 24\"\n",
              "       width=\"24px\">\n",
              "    <path d=\"M0 0h24v24H0V0z\" fill=\"none\"/>\n",
              "    <path d=\"M18.56 5.44l.94 2.06.94-2.06 2.06-.94-2.06-.94-.94-2.06-.94 2.06-2.06.94zm-11 1L8.5 8.5l.94-2.06 2.06-.94-2.06-.94L8.5 2.5l-.94 2.06-2.06.94zm10 10l.94 2.06.94-2.06 2.06-.94-2.06-.94-.94-2.06-.94 2.06-2.06.94z\"/><path d=\"M17.41 7.96l-1.37-1.37c-.4-.4-.92-.59-1.43-.59-.52 0-1.04.2-1.43.59L10.3 9.45l-7.72 7.72c-.78.78-.78 2.05 0 2.83L4 21.41c.39.39.9.59 1.41.59.51 0 1.02-.2 1.41-.59l7.78-7.78 2.81-2.81c.8-.78.8-2.07 0-2.86zM5.41 20L4 18.59l7.72-7.72 1.47 1.35L5.41 20z\"/>\n",
              "  </svg>\n",
              "      </button>\n",
              "      \n",
              "  <style>\n",
              "    .colab-df-container {\n",
              "      display:flex;\n",
              "      flex-wrap:wrap;\n",
              "      gap: 12px;\n",
              "    }\n",
              "\n",
              "    .colab-df-convert {\n",
              "      background-color: #E8F0FE;\n",
              "      border: none;\n",
              "      border-radius: 50%;\n",
              "      cursor: pointer;\n",
              "      display: none;\n",
              "      fill: #1967D2;\n",
              "      height: 32px;\n",
              "      padding: 0 0 0 0;\n",
              "      width: 32px;\n",
              "    }\n",
              "\n",
              "    .colab-df-convert:hover {\n",
              "      background-color: #E2EBFA;\n",
              "      box-shadow: 0px 1px 2px rgba(60, 64, 67, 0.3), 0px 1px 3px 1px rgba(60, 64, 67, 0.15);\n",
              "      fill: #174EA6;\n",
              "    }\n",
              "\n",
              "    [theme=dark] .colab-df-convert {\n",
              "      background-color: #3B4455;\n",
              "      fill: #D2E3FC;\n",
              "    }\n",
              "\n",
              "    [theme=dark] .colab-df-convert:hover {\n",
              "      background-color: #434B5C;\n",
              "      box-shadow: 0px 1px 3px 1px rgba(0, 0, 0, 0.15);\n",
              "      filter: drop-shadow(0px 1px 2px rgba(0, 0, 0, 0.3));\n",
              "      fill: #FFFFFF;\n",
              "    }\n",
              "  </style>\n",
              "\n",
              "      <script>\n",
              "        const buttonEl =\n",
              "          document.querySelector('#df-df635c4d-e775-4959-b1a5-1c4f5ec8a45c button.colab-df-convert');\n",
              "        buttonEl.style.display =\n",
              "          google.colab.kernel.accessAllowed ? 'block' : 'none';\n",
              "\n",
              "        async function convertToInteractive(key) {\n",
              "          const element = document.querySelector('#df-df635c4d-e775-4959-b1a5-1c4f5ec8a45c');\n",
              "          const dataTable =\n",
              "            await google.colab.kernel.invokeFunction('convertToInteractive',\n",
              "                                                     [key], {});\n",
              "          if (!dataTable) return;\n",
              "\n",
              "          const docLinkHtml = 'Like what you see? Visit the ' +\n",
              "            '<a target=\"_blank\" href=https://colab.research.google.com/notebooks/data_table.ipynb>data table notebook</a>'\n",
              "            + ' to learn more about interactive tables.';\n",
              "          element.innerHTML = '';\n",
              "          dataTable['output_type'] = 'display_data';\n",
              "          await google.colab.output.renderOutput(dataTable, element);\n",
              "          const docLink = document.createElement('div');\n",
              "          docLink.innerHTML = docLinkHtml;\n",
              "          element.appendChild(docLink);\n",
              "        }\n",
              "      </script>\n",
              "    </div>\n",
              "  </div>\n",
              "  "
            ]
          },
          "metadata": {},
          "execution_count": 30
        }
      ]
    },
    {
      "cell_type": "markdown",
      "source": [
        "Note: here purchased column is the **dependent variable**"
      ],
      "metadata": {
        "id": "ANBuGaiuS5Wb"
      }
    },
    {
      "cell_type": "code",
      "source": [
        "print(X)"
      ],
      "metadata": {
        "colab": {
          "base_uri": "https://localhost:8080/"
        },
        "id": "qbP46MJRa_Yw",
        "outputId": "28862591-c0f9-45a1-992b-928e779825de"
      },
      "execution_count": 31,
      "outputs": [
        {
          "output_type": "stream",
          "name": "stdout",
          "text": [
            "[['France' 44.0 72000.0]\n",
            " ['Spain' 27.0 48000.0]\n",
            " ['Germany' 30.0 54000.0]\n",
            " ['Spain' 38.0 61000.0]\n",
            " ['Germany' 40.0 nan]\n",
            " ['France' 35.0 58000.0]\n",
            " ['Spain' nan 52000.0]\n",
            " ['France' 48.0 79000.0]\n",
            " ['Germany' 50.0 83000.0]\n",
            " ['France' 37.0 67000.0]]\n"
          ]
        }
      ]
    },
    {
      "cell_type": "code",
      "source": [
        "print(y)"
      ],
      "metadata": {
        "colab": {
          "base_uri": "https://localhost:8080/"
        },
        "id": "033qoa72bErV",
        "outputId": "6fa65291-69c9-4609-cf24-5d552180fe3f"
      },
      "execution_count": 32,
      "outputs": [
        {
          "output_type": "stream",
          "name": "stdout",
          "text": [
            "['No' 'Yes' 'No' 'No' 'Yes' 'Yes' 'No' 'Yes' 'No' 'Yes']\n"
          ]
        }
      ]
    },
    {
      "cell_type": "markdown",
      "source": [
        "Taking care of missing data"
      ],
      "metadata": {
        "id": "HZxUljf6YbYx"
      }
    },
    {
      "cell_type": "code",
      "source": [
        "from sklearn.impute import SimpleImputer\n",
        "imputer = SimpleImputer(missing_values=np.nan, strategy='mean')\n",
        "imputer.fit(X[:,1:3])\n",
        "X[:,1:3] = imputer.transform(X[:,1:3])"
      ],
      "metadata": {
        "id": "Mb4sYnpzQw-U"
      },
      "execution_count": 33,
      "outputs": []
    },
    {
      "cell_type": "code",
      "source": [
        "print(X)"
      ],
      "metadata": {
        "colab": {
          "base_uri": "https://localhost:8080/"
        },
        "id": "Iybq9VPkZAul",
        "outputId": "18c29638-b2ac-4b43-c8b8-2dea272d86f7"
      },
      "execution_count": 34,
      "outputs": [
        {
          "output_type": "stream",
          "name": "stdout",
          "text": [
            "[['France' 44.0 72000.0]\n",
            " ['Spain' 27.0 48000.0]\n",
            " ['Germany' 30.0 54000.0]\n",
            " ['Spain' 38.0 61000.0]\n",
            " ['Germany' 40.0 63777.77777777778]\n",
            " ['France' 35.0 58000.0]\n",
            " ['Spain' 38.77777777777778 52000.0]\n",
            " ['France' 48.0 79000.0]\n",
            " ['Germany' 50.0 83000.0]\n",
            " ['France' 37.0 67000.0]]\n"
          ]
        }
      ]
    },
    {
      "cell_type": "markdown",
      "source": [
        "Encoding categorical data"
      ],
      "metadata": {
        "id": "c_unk2R8gFKR"
      }
    },
    {
      "cell_type": "code",
      "source": [
        "from sklearn.compose import ColumnTransformer\n",
        "from sklearn.preprocessing import OneHotEncoder\n",
        "ct = ColumnTransformer(transformers=[('encoder',OneHotEncoder(),[0])], remainder='passthrough')\n",
        "X = np.array(ct.fit_transform(X))"
      ],
      "metadata": {
        "id": "0L75NhO9bpUv"
      },
      "execution_count": 35,
      "outputs": []
    },
    {
      "cell_type": "code",
      "source": [
        "print(X)"
      ],
      "metadata": {
        "id": "jvHobXzqFdGB",
        "colab": {
          "base_uri": "https://localhost:8080/"
        },
        "outputId": "3d9805be-3d2d-4fbf-b697-290efc56df81"
      },
      "execution_count": 36,
      "outputs": [
        {
          "output_type": "stream",
          "name": "stdout",
          "text": [
            "[[1.0 0.0 0.0 44.0 72000.0]\n",
            " [0.0 0.0 1.0 27.0 48000.0]\n",
            " [0.0 1.0 0.0 30.0 54000.0]\n",
            " [0.0 0.0 1.0 38.0 61000.0]\n",
            " [0.0 1.0 0.0 40.0 63777.77777777778]\n",
            " [1.0 0.0 0.0 35.0 58000.0]\n",
            " [0.0 0.0 1.0 38.77777777777778 52000.0]\n",
            " [1.0 0.0 0.0 48.0 79000.0]\n",
            " [0.0 1.0 0.0 50.0 83000.0]\n",
            " [1.0 0.0 0.0 37.0 67000.0]]\n"
          ]
        }
      ]
    },
    {
      "cell_type": "markdown",
      "source": [
        "Encoding the dependent variable"
      ],
      "metadata": {
        "id": "RiGOJaHf14ic"
      }
    },
    {
      "cell_type": "code",
      "source": [
        "from sklearn.preprocessing import LabelEncoder\n",
        "le = LabelEncoder()\n",
        "y = le.fit_transform(y)"
      ],
      "metadata": {
        "id": "ss7iIe4Q0bcT"
      },
      "execution_count": 37,
      "outputs": []
    },
    {
      "cell_type": "code",
      "source": [
        "print(y)"
      ],
      "metadata": {
        "colab": {
          "base_uri": "https://localhost:8080/"
        },
        "id": "60p9j_AV2BxM",
        "outputId": "b5c15efe-d9da-453d-f71c-ec53ab102f07"
      },
      "execution_count": 38,
      "outputs": [
        {
          "output_type": "stream",
          "name": "stdout",
          "text": [
            "[0 1 0 0 1 1 0 1 0 1]\n"
          ]
        }
      ]
    },
    {
      "cell_type": "markdown",
      "source": [
        "### Splitting the dataset into Training set and Test set "
      ],
      "metadata": {
        "id": "84MR_SQb2zu8"
      }
    },
    {
      "cell_type": "code",
      "source": [
        "from sklearn.model_selection import train_test_split\n",
        "X_train, X_test, y_train, y_test = train_test_split(X,y, test_size=0.2,random_state=1)"
      ],
      "metadata": {
        "id": "FvShTwTx2TQ7"
      },
      "execution_count": 39,
      "outputs": []
    },
    {
      "cell_type": "code",
      "source": [
        "print(X_train)"
      ],
      "metadata": {
        "colab": {
          "base_uri": "https://localhost:8080/"
        },
        "id": "hyTwLxw74oTl",
        "outputId": "d67cb671-67bf-43eb-e1ff-17d2478387ff"
      },
      "execution_count": 40,
      "outputs": [
        {
          "output_type": "stream",
          "name": "stdout",
          "text": [
            "[[0.0 0.0 1.0 38.77777777777778 52000.0]\n",
            " [0.0 1.0 0.0 40.0 63777.77777777778]\n",
            " [1.0 0.0 0.0 44.0 72000.0]\n",
            " [0.0 0.0 1.0 38.0 61000.0]\n",
            " [0.0 0.0 1.0 27.0 48000.0]\n",
            " [1.0 0.0 0.0 48.0 79000.0]\n",
            " [0.0 1.0 0.0 50.0 83000.0]\n",
            " [1.0 0.0 0.0 35.0 58000.0]]\n"
          ]
        }
      ]
    },
    {
      "cell_type": "code",
      "source": [
        "print(X_test)"
      ],
      "metadata": {
        "colab": {
          "base_uri": "https://localhost:8080/"
        },
        "id": "E7vLbOmh5Ow7",
        "outputId": "4356cad5-73a2-406c-887c-9ea2c0dafc4d"
      },
      "execution_count": 41,
      "outputs": [
        {
          "output_type": "stream",
          "name": "stdout",
          "text": [
            "[[0.0 1.0 0.0 30.0 54000.0]\n",
            " [1.0 0.0 0.0 37.0 67000.0]]\n"
          ]
        }
      ]
    },
    {
      "cell_type": "code",
      "source": [
        "print(y_train)"
      ],
      "metadata": {
        "colab": {
          "base_uri": "https://localhost:8080/"
        },
        "id": "NKkDyRI75Qqj",
        "outputId": "432cd98d-2f51-4a89-d35d-9712ef8fc1ab"
      },
      "execution_count": 42,
      "outputs": [
        {
          "output_type": "stream",
          "name": "stdout",
          "text": [
            "[0 1 0 0 1 1 0 1]\n"
          ]
        }
      ]
    },
    {
      "cell_type": "code",
      "source": [
        "print(y_test)"
      ],
      "metadata": {
        "colab": {
          "base_uri": "https://localhost:8080/"
        },
        "id": "Cugus5S_5R_m",
        "outputId": "cf83fd73-f368-4742-c86d-f12fe87773ce"
      },
      "execution_count": 43,
      "outputs": [
        {
          "output_type": "stream",
          "name": "stdout",
          "text": [
            "[0 1]\n"
          ]
        }
      ]
    },
    {
      "cell_type": "markdown",
      "source": [
        "### Feature Scaling"
      ],
      "metadata": {
        "id": "vkbuwWsB6H_n"
      }
    },
    {
      "cell_type": "markdown",
      "source": [
        "![image.png](data:image/png;base64,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)"
      ],
      "metadata": {
        "id": "6Yp7gXB9YGw_"
      }
    },
    {
      "cell_type": "code",
      "source": [
        "from sklearn.preprocessing import StandardScaler\n",
        "sc = StandardScaler()\n",
        "X_train[:, 3:] = sc.fit_transform(X_train[:, 3:])\n",
        "X_test[:, 3:] = sc.fit_transform(X_test[:, 3:])"
      ],
      "metadata": {
        "id": "FX1_TMCK5c2X"
      },
      "execution_count": 44,
      "outputs": []
    },
    {
      "cell_type": "code",
      "source": [
        "print(X_train)"
      ],
      "metadata": {
        "colab": {
          "base_uri": "https://localhost:8080/"
        },
        "id": "MuEJs5JtfY_A",
        "outputId": "17450a39-298f-4048-b9c5-69511f985a48"
      },
      "execution_count": 45,
      "outputs": [
        {
          "output_type": "stream",
          "name": "stdout",
          "text": [
            "[[0.0 0.0 1.0 -0.19159184384578545 -1.0781259408412425]\n",
            " [0.0 1.0 0.0 -0.014117293757057777 -0.07013167641635372]\n",
            " [1.0 0.0 0.0 0.566708506533324 0.633562432710455]\n",
            " [0.0 0.0 1.0 -0.30453019390224867 -0.30786617274297867]\n",
            " [0.0 0.0 1.0 -1.9018011447007988 -1.420463615551582]\n",
            " [1.0 0.0 0.0 1.1475343068237058 1.232653363453549]\n",
            " [0.0 1.0 0.0 1.4379472069688968 1.5749910381638885]\n",
            " [1.0 0.0 0.0 -0.7401495441200351 -0.5646194287757332]]\n"
          ]
        }
      ]
    },
    {
      "cell_type": "code",
      "source": [
        "print(X_test)"
      ],
      "metadata": {
        "colab": {
          "base_uri": "https://localhost:8080/"
        },
        "id": "ZxsclplCfZUY",
        "outputId": "bfc9808d-d0a8-47b9-b1dd-e2061438c11d"
      },
      "execution_count": 46,
      "outputs": [
        {
          "output_type": "stream",
          "name": "stdout",
          "text": [
            "[[0.0 1.0 0.0 -1.0 -1.0]\n",
            " [1.0 0.0 0.0 1.0 1.0]]\n"
          ]
        }
      ]
    },
    {
      "cell_type": "code",
      "source": [],
      "metadata": {
        "id": "8s60gExcfxc6"
      },
      "execution_count": 46,
      "outputs": []
    }
  ]
}